{
 "cells": [
  {
   "cell_type": "code",
   "execution_count": 1,
   "metadata": {},
   "outputs": [
    {
     "name": "stderr",
     "output_type": "stream",
     "text": [
      "/Users/owner/opt/anaconda3/lib/python3.7/site-packages/statsmodels/tools/_testing.py:19: FutureWarning: pandas.util.testing is deprecated. Use the functions in the public API at pandas.testing instead.\n",
      "  import pandas.util.testing as tm\n"
     ]
    }
   ],
   "source": [
    "import numpy as np\n",
    "import pandas as pd\n",
    "import matplotlib.pyplot as plt\n",
    "import seaborn as sns"
   ]
  },
  {
   "cell_type": "code",
   "execution_count": 2,
   "metadata": {},
   "outputs": [],
   "source": [
    "train = pd.read_csv('sign_mnist_train.csv')\n",
    "test = pd.read_csv('sign_mnist_test.csv')"
   ]
  },
  {
   "cell_type": "code",
   "execution_count": 3,
   "metadata": {},
   "outputs": [],
   "source": [
    "labels = train['label'].values\n",
    "train.drop('label', axis = 1, inplace = True)"
   ]
  },
  {
   "cell_type": "code",
   "execution_count": 4,
   "metadata": {},
   "outputs": [],
   "source": [
    "images = train.values\n",
    "images = np.array([np.reshape(i, (28, 28)) for i in images])\n",
    "images = np.array([i.flatten() for i in images])"
   ]
  },
  {
   "cell_type": "code",
   "execution_count": 5,
   "metadata": {},
   "outputs": [],
   "source": [
    "from sklearn.preprocessing import LabelBinarizer\n",
    "label_binrizer = LabelBinarizer()\n",
    "labels = label_binrizer.fit_transform(labels)"
   ]
  },
  {
   "cell_type": "code",
   "execution_count": 6,
   "metadata": {},
   "outputs": [
    {
     "data": {
      "text/plain": [
       "array([[0, 0, 0, ..., 0, 0, 0],\n",
       "       [0, 0, 0, ..., 0, 0, 0],\n",
       "       [0, 0, 1, ..., 0, 0, 0],\n",
       "       ...,\n",
       "       [0, 0, 0, ..., 0, 0, 0],\n",
       "       [0, 0, 0, ..., 0, 0, 0],\n",
       "       [0, 0, 0, ..., 0, 1, 0]])"
      ]
     },
     "execution_count": 6,
     "metadata": {},
     "output_type": "execute_result"
    }
   ],
   "source": [
    "labels"
   ]
  },
  {
   "cell_type": "code",
   "execution_count": 7,
   "metadata": {},
   "outputs": [
    {
     "data": {
      "text/plain": [
       "<matplotlib.image.AxesImage at 0x1294983d0>"
      ]
     },
     "execution_count": 7,
     "metadata": {},
     "output_type": "execute_result"
    },
    {
     "data": {
      "image/png": "[encoded data removed]",
      "text/plain": [
       "<Figure size 432x288 with 1 Axes>"
      ]
     },
     "metadata": {
      "needs_background": "light"
     },
     "output_type": "display_data"
    }
   ],
   "source": [
    "plt.imshow(images[0].reshape(28,28))"
   ]
  },
  {
   "cell_type": "code",
   "execution_count": 8,
   "metadata": {},
   "outputs": [],
   "source": [
    "from sklearn.model_selection import train_test_split\n",
    "x_train, x_test, y_train, y_test = train_test_split(images, labels, test_size = 0.3, random_state = 101)"
   ]
  },
  {
   "cell_type": "code",
   "execution_count": 9,
   "metadata": {},
   "outputs": [
    {
     "name": "stderr",
     "output_type": "stream",
     "text": [
      "Using TensorFlow backend.\n"
     ]
    }
   ],
   "source": [
    "import keras\n",
    "from keras.models import Sequential\n",
    "from keras.layers import Dense, Conv2D, MaxPooling2D, Flatten, Dropout"
   ]
  },
  {
   "cell_type": "code",
   "execution_count": 10,
   "metadata": {},
   "outputs": [],
   "source": [
    "batch_size = 128\n",
    "num_classes = 24\n",
    "epochs = 50"
   ]
  },
  {
   "cell_type": "code",
   "execution_count": 11,
   "metadata": {},
   "outputs": [],
   "source": [
    "x_train = x_train / 255\n",
    "x_test = x_test / 255"
   ]
  },
  {
   "cell_type": "code",
   "execution_count": 12,
   "metadata": {},
   "outputs": [],
   "source": [
    "x_train = x_train.reshape(x_train.shape[0], 28, 28, 1)"
   ]
  },
  {
   "cell_type": "code",
   "execution_count": 13,
   "metadata": {},
   "outputs": [],
   "source": [
    "x_test = x_test.reshape(x_test.shape[0], 28, 28, 1)"
   ]
  },
  {
   "cell_type": "code",
   "execution_count": 14,
   "metadata": {},
   "outputs": [
    {
     "data": {
      "text/plain": [
       "<matplotlib.image.AxesImage at 0x13c534e10>"
      ]
     },
     "execution_count": 14,
     "metadata": {},
     "output_type": "execute_result"
    },
    {
     "data": {
      "image/png": "[encoded data removed]",
      "text/plain": [
       "<Figure size 432x288 with 1 Axes>"
      ]
     },
     "metadata": {
      "needs_background": "light"
     },
     "output_type": "display_data"
    }
   ],
   "source": [
    "plt.imshow(x_train[0].reshape(28,28))"
   ]
  },
  {
   "cell_type": "markdown",
   "metadata": {},
   "source": [
    "# CNN Model"
   ]
  },
  {
   "cell_type": "code",
   "execution_count": 15,
   "metadata": {},
   "outputs": [],
   "source": [
    "model = Sequential()\n",
    "model.add(Conv2D(64, kernel_size=(3,3), activation = 'relu', input_shape=(28, 28 ,1) ))\n",
    "model.add(MaxPooling2D(pool_size = (2, 2)))\n",
    "\n",
    "model.add(Conv2D(64, kernel_size = (3, 3), activation = 'relu'))\n",
    "model.add(MaxPooling2D(pool_size = (2, 2)))\n",
    "\n",
    "model.add(Conv2D(64, kernel_size = (3, 3), activation = 'relu'))\n",
    "model.add(MaxPooling2D(pool_size = (2, 2)))\n",
    "\n",
    "model.add(Flatten())\n",
    "model.add(Dense(128, activation = 'relu'))\n",
    "model.add(Dropout(0.20))\n",
    "\n",
    "model.add(Dense(num_classes, activation = 'softmax'))"
   ]
  },
  {
   "cell_type": "code",
   "execution_count": 17,
   "metadata": {},
   "outputs": [],
   "source": [
    "model.compile(loss = keras.losses.categorical_crossentropy, optimizer=keras.optimizers.Adam(),\n",
    "              metrics=['accuracy'])"
   ]
  },
  {
   "cell_type": "code",
   "execution_count": null,
   "metadata": {},
   "outputs": [
    {
     "name": "stdout",
     "output_type": "stream",
     "text": [
      "Train on 19218 samples, validate on 8237 samples\n",
      "Epoch 1/50\n",
      "19218/19218 [==============================] - 97s 5ms/step - loss: 2.5680 - accuracy: 0.2095 - val_loss: 1.5703 - val_accuracy: 0.5075\n",
      "Epoch 2/50\n",
      "19218/19218 [==============================] - 90s 5ms/step - loss: 1.2243 - accuracy: 0.5940 - val_loss: 0.7873 - val_accuracy: 0.7512\n",
      "Epoch 3/50\n",
      "19218/19218 [==============================] - 88s 5ms/step - loss: 0.7261 - accuracy: 0.7498 - val_loss: 0.4852 - val_accuracy: 0.8448\n",
      "Epoch 4/50\n",
      "19218/19218 [==============================] - 88s 5ms/step - loss: 0.4928 - accuracy: 0.8306 - val_loss: 0.3487 - val_accuracy: 0.8743\n",
      "Epoch 5/50\n",
      "19218/19218 [==============================] - 96s 5ms/step - loss: 0.3309 - accuracy: 0.8889 - val_loss: 0.1955 - val_accuracy: 0.9460\n",
      "Epoch 6/50\n",
      "19218/19218 [==============================] - 96s 5ms/step - loss: 0.2366 - accuracy: 0.9200 - val_loss: 0.1349 - val_accuracy: 0.9603\n",
      "Epoch 7/50\n",
      "19218/19218 [==============================] - 91s 5ms/step - loss: 0.1563 - accuracy: 0.9522 - val_loss: 0.0818 - val_accuracy: 0.9800\n",
      "Epoch 8/50\n",
      "19218/19218 [==============================] - 92s 5ms/step - loss: 0.1117 - accuracy: 0.9662 - val_loss: 0.0662 - val_accuracy: 0.9851\n",
      "Epoch 9/50\n",
      "19218/19218 [==============================] - 96s 5ms/step - loss: 0.0806 - accuracy: 0.9776 - val_loss: 0.0282 - val_accuracy: 0.9976\n",
      "Epoch 10/50\n",
      "19218/19218 [==============================] - 100s 5ms/step - loss: 0.0727 - accuracy: 0.9786 - val_loss: 0.0285 - val_accuracy: 0.9943\n",
      "Epoch 11/50\n",
      "19218/19218 [==============================] - 94s 5ms/step - loss: 0.0492 - accuracy: 0.9866 - val_loss: 0.0121 - val_accuracy: 0.9996\n",
      "Epoch 12/50\n",
      "19218/19218 [==============================] - 93s 5ms/step - loss: 0.0401 - accuracy: 0.9907 - val_loss: 0.0322 - val_accuracy: 0.9927\n",
      "Epoch 13/50\n",
      "19218/19218 [==============================] - 89s 5ms/step - loss: 0.0304 - accuracy: 0.9920 - val_loss: 0.0125 - val_accuracy: 0.9994\n",
      "Epoch 14/50\n",
      "19218/19218 [==============================] - 89s 5ms/step - loss: 0.0287 - accuracy: 0.9935 - val_loss: 0.0097 - val_accuracy: 0.9993\n",
      "Epoch 15/50\n",
      "19218/19218 [==============================] - 88s 5ms/step - loss: 0.0215 - accuracy: 0.9945 - val_loss: 0.0059 - val_accuracy: 0.9995\n",
      "Epoch 16/50\n",
      "19218/19218 [==============================] - 89s 5ms/step - loss: 0.0206 - accuracy: 0.9947 - val_loss: 0.0079 - val_accuracy: 0.9988\n",
      "Epoch 17/50\n",
      "19218/19218 [==============================] - 86s 4ms/step - loss: 0.0191 - accuracy: 0.9951 - val_loss: 0.0041 - val_accuracy: 0.9994\n",
      "Epoch 18/50\n",
      "19218/19218 [==============================] - 86s 4ms/step - loss: 0.0106 - accuracy: 0.9981 - val_loss: 0.0024 - val_accuracy: 0.9998\n",
      "Epoch 19/50\n",
      "19218/19218 [==============================] - 86s 4ms/step - loss: 0.0133 - accuracy: 0.9968 - val_loss: 0.0033 - val_accuracy: 0.9994\n",
      "Epoch 20/50\n",
      "19218/19218 [==============================] - 86s 4ms/step - loss: 0.0124 - accuracy: 0.9966 - val_loss: 0.0029 - val_accuracy: 1.0000\n",
      "Epoch 21/50\n",
      "19218/19218 [==============================] - 86s 4ms/step - loss: 0.0286 - accuracy: 0.9917 - val_loss: 0.0020 - val_accuracy: 0.9998\n",
      "Epoch 22/50\n",
      "19218/19218 [==============================] - 86s 4ms/step - loss: 0.0100 - accuracy: 0.9975 - val_loss: 0.0046 - val_accuracy: 0.9993\n",
      "Epoch 23/50\n",
      "19218/19218 [==============================] - 86s 4ms/step - loss: 0.0088 - accuracy: 0.9978 - val_loss: 0.0058 - val_accuracy: 0.9985\n",
      "Epoch 24/50\n",
      "19218/19218 [==============================] - 86s 4ms/step - loss: 0.0122 - accuracy: 0.9967 - val_loss: 0.0036 - val_accuracy: 0.9994\n",
      "Epoch 25/50\n",
      "19218/19218 [==============================] - 86s 4ms/step - loss: 0.0133 - accuracy: 0.9961 - val_loss: 0.0027 - val_accuracy: 0.9994\n",
      "Epoch 26/50\n",
      "19218/19218 [==============================] - 86s 4ms/step - loss: 0.0108 - accuracy: 0.9969 - val_loss: 9.4948e-04 - val_accuracy: 0.9999\n",
      "Epoch 27/50\n",
      "19218/19218 [==============================] - 104s 5ms/step - loss: 0.0072 - accuracy: 0.9981 - val_loss: 0.0010 - val_accuracy: 0.9999\n",
      "Epoch 28/50\n",
      "19218/19218 [==============================] - 92s 5ms/step - loss: 0.0055 - accuracy: 0.9988 - val_loss: 0.0011 - val_accuracy: 0.9999\n",
      "Epoch 29/50\n",
      "19218/19218 [==============================] - 92s 5ms/step - loss: 0.0106 - accuracy: 0.9966 - val_loss: 0.0037 - val_accuracy: 0.9998\n",
      "Epoch 30/50\n",
      " 9728/19218 [==============>...............] - ETA: 38s - loss: 0.0105 - accuracy: 0.9968"
     ]
    }
   ],
   "source": [
    "history = model.fit(x_train, y_train, validation_data = (x_test, y_test), epochs=epochs, batch_size=batch_size)"
   ]
  },
  {
   "cell_type": "code",
   "execution_count": null,
   "metadata": {},
   "outputs": [],
   "source": []
  }
 ],
 "metadata": {
  "kernelspec": {
   "display_name": "Python 3",
   "language": "python",
   "name": "python3"
  },
  "language_info": {
   "codemirror_mode": {
    "name": "ipython",
    "version": 3
   },
   "file_extension": ".py",
   "mimetype": "text/x-python",
   "name": "python",
   "nbconvert_exporter": "python",
   "pygments_lexer": "ipython3",
   "version": "3.7.4"
  }
 },
 "nbformat": 4,
 "nbformat_minor": 2
}
